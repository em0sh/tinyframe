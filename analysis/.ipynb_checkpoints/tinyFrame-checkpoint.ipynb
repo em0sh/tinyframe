{
 "cells": [
  {
   "cell_type": "markdown",
   "id": "7491e1c4",
   "metadata": {},
   "source": [
    "## tinyFrame Analysis - General Calculations\n",
    "\n",
    "## Purpose\n",
    "This document serve as the repository for all analysis for the tinyFrame project.\n",
    "\n",
    "## TODO:\n",
    "- ~~Calculate required deflection~~\n",
    "- ~~Build calculations around known press-force (7 lbf)~~\n",
    "- ~~stress checks for given thickness and the declarations above~~\n",
    "- ~~Calculate combined stress case due to additional torsion created by double-back feature (snake)~~\n",
    "- Strength Checks\n",
    "  - Calculate Strength of Joint when Welded\n",
    "  - Calculate Strength of Joint as Snap Fit\n",
    "- Create a plot that shows:\n",
    "  - Load\n",
    "  - Length\n",
    "  - Gauge"
   ]
  },
  {
   "cell_type": "code",
   "execution_count": 46,
   "id": "4beb8d1e",
   "metadata": {},
   "outputs": [],
   "source": [
    "import numpy, yaml, pint\n",
    "import numpy as np\n",
    "import matplotlib.pyplot as plt\n",
    "\n",
    "# Boilerplate\n",
    "## Initialize Pint Registry for Unit Manipulation\n",
    "## See documentation on Registries and Units in Pint here:\n",
    "## https://pint.readthedocs.io/en/stable/getting/tutorial.html\n",
    "from pint import UnitRegistry\n",
    "ureg = UnitRegistry(auto_reduce_dimensions=True)"
   ]
  },
  {
   "cell_type": "code",
   "execution_count": 47,
   "id": "562a9d0c-98ea-4b5c-9315-c290d3bfc36a",
   "metadata": {},
   "outputs": [],
   "source": [
    "preferred_units = [\n",
    "   ureg.m,  # distance      L\n",
    "   ureg.kilogram,  # mass          M\n",
    "   ureg.s,  # duration      T\n",
    "   ureg.c,  # temperature   Θ\n",
    "   ureg.newton,  # force         L M T^-2\n",
    "   ureg.W,  # power         L^2 M T^-3\n",
    "]"
   ]
  },
  {
   "cell_type": "markdown",
   "id": "98159745-7007-4742-8e81-85202102fe43",
   "metadata": {},
   "source": [
    "The equation that describes insert force for the locking tab is from the cantilever beam for a fixed support equation:\n",
    "\n",
    "$$\\delta = \\frac{Pl^3}{3EI}$$\n",
    "\n",
    "Equation for Second Moment of Area of a Rectangular beam:\n",
    "$$I = \\frac{bh^3}{12}$$\n",
    "\n",
    "To find the required locking tab length, we need to solve the deflection equation for L, length of the locking tabs.\n",
    "\n",
    "Solving the equation above and replacing the second moment of area, I with the locking tab dimensions, we get:\n",
    "\n",
    "$$\\delta = \\frac{4 P L^3}{E b h^3}$$\n",
    "\n",
    "We normalize to the number of tabs in the system (four) and end up with:\n",
    "\n",
    "\n",
    "$$\\delta = \\frac{P L_{protoyped}^3}{E b h^3}$$\n",
    "\n",
    "\n"
   ]
  },
  {
   "cell_type": "code",
   "execution_count": 48,
   "id": "b5b60ea7-965c-4176-a1eb-de43eef4af08",
   "metadata": {},
   "outputs": [],
   "source": [
    "# First, declare inputs\n",
    "# Tube Width, width\n",
    "tWidth = 50.8 \n",
    "\n",
    "# Thickness (gauge) of tube\n",
    "h = 1.651 * ureg.mm\n",
    "\n",
    "# This is the distance required to travel to account for the depth\n",
    "  # the depth of the tab\n",
    "del_tab = 6.35 * ureg.mm # From CAD\n",
    "\n",
    "# Material Properties\n",
    "# Yield Stress of the Material\n",
    "# Currently: Aluminum 7075\n",
    "sigma_yield = 45 * ureg.ksi\n",
    "sigma_yield_welded = 27 * ureg.ksi\n",
    "tau_yield_welded = 0.577 * sigma_yield_welded\n",
    "\n",
    "# E in Pa - young's modulus\n",
    "E = 69e9 * ureg.newton / (ureg.meter * ureg.meter)\n"
   ]
  },
  {
   "cell_type": "code",
   "execution_count": 49,
   "id": "aebb7ca9-ddcb-452a-9bfd-b5606d5dec0d",
   "metadata": {},
   "outputs": [],
   "source": [
    "# Values determined from Prototyping (Thanks Jonathan & Bryce!)\n",
    "P = 10 * ureg.lbf # From Prototyping\n",
    "\n",
    "# From testing done at FabWorks, the ratio of the tab is:\n",
    "# NOTE: If the geometry of the design changes, this needs to as well\n",
    "bRatio = 3.19/50.8\n",
    "\n",
    "# Calculate b (locking tab width required)\n",
    "b = bRatio * tWidth * ureg.mm\n"
   ]
  },
  {
   "cell_type": "markdown",
   "id": "e38570cf-2d91-4068-9cf6-700c3e497e70",
   "metadata": {},
   "source": [
    "We need to calculate the length of the flexure (locking tabs) required - solve the above equation for L:\n",
    "\n",
    "$$L = \\sqrt[3]{\\frac{3 \\delta \\, E \\, b \\, h^3}{12P}}$$\n",
    "\n",
    "P represents the global press force, but we assume there are always four tabs, so we divide P by 4 and are left with:\n",
    "\n",
    "$$L = \\sqrt[3]{\\frac{\\delta \\, E \\, b \\, h^3}{P}}$$"
   ]
  },
  {
   "cell_type": "code",
   "execution_count": 50,
   "id": "979d931b-7857-4293-a5ce-5988fdc0d660",
   "metadata": {},
   "outputs": [
    {
     "name": "stdout",
     "output_type": "stream",
     "text": [
      "Length of locking tab flexure is: 52.10 millimeter\n",
      "Locking tab flexure width is: 3.19 millimeter\n"
     ]
    }
   ],
   "source": [
    "# Determine the length of the locking tabs\n",
    "L = ((del_tab * E * b * h**3) / (P)) ** (1/3)\n",
    "\n",
    "print(f\"Length of locking tab flexure is: {L:.2f}\")\n",
    "print(f\"Locking tab flexure width is: {b:.2f}\")\n"
   ]
  },
  {
   "cell_type": "markdown",
   "id": "3c7ae92b-e7db-44ca-8b47-ca51f6a88fe7",
   "metadata": {},
   "source": [
    "Now, we check for bending stress:\n",
    "\n",
    "$$\\sigma_b = \\frac{M \\cdot c}{I}$$"
   ]
  },
  {
   "cell_type": "code",
   "execution_count": 51,
   "id": "2ae9a528-73dd-41c3-9a23-9551cc02a54c",
   "metadata": {},
   "outputs": [
    {
     "name": "stdout",
     "output_type": "stream",
     "text": [
      "Bending stress seen by the locking tab: \n",
      "57.98245909656805 kip_per_square_inch\n",
      "Factor of safety against yield: \n",
      "0.7760967834264132 dimensionless\n"
     ]
    }
   ],
   "source": [
    "# Calculations for geometry of Bending Region\n",
    "c = h/2\n",
    "I = b*h**3 / 12\n",
    "\n",
    "# Calculate requisite components\n",
    "# Moment is force times distance\n",
    "M = P/4 * L\n",
    "\n",
    "# Calculate the bending stress\n",
    "sigma_bending =  M * c / I\n",
    "\n",
    "# What's the factor of safety against the material yield stress?\n",
    "FOS_install = sigma_yield / sigma_bending\n",
    "\n",
    "print(\"Bending stress seen by the locking tab: \")\n",
    "print(sigma_bending.to(ureg.ksi))\n",
    "\n",
    "print(\"Factor of safety against yield: \")\n",
    "print(FOS_install)"
   ]
  },
  {
   "cell_type": "markdown",
   "id": "c8cfceee-60e3-48a3-be0b-fcae04642542",
   "metadata": {},
   "source": [
    "# Checking for Combined Loading of Torsional and Bending Stresses\n",
    "The second polar moment of area for a rectangular beam is:\n",
    "$$J \\approx \\beta a b^3$$\n",
    "\n",
    "Where:\n",
    "\n",
    "a is the length of the long side\n",
    "\n",
    "b is the length of the short side\n",
    "\n",
    "β is the torsional constant\n",
    "\n",
    "\n",
    "First, calculate ratio a/b and declare it as W to pass to a function to return torsional constant $\\beta$."
   ]
  },
  {
   "cell_type": "code",
   "execution_count": 52,
   "id": "2774071f-6b82-4986-ac02-eece24d3ea91",
   "metadata": {},
   "outputs": [
    {
     "name": "stdout",
     "output_type": "stream",
     "text": [
      "3.7 millimeter\n"
     ]
    }
   ],
   "source": [
    "# Variables for Torsional Stress Calculations\n",
    "# Note: Normalizing P (load) to P_ to delinate load distributed over four locking tabs\n",
    "# e is the hypotenuse of the b/h triangle: \n",
    "e = 3.7 *(tWidth / 50.8) * ureg.mm\n",
    "r = (b**2 / 4 + h**2 / 4)**(1/2)\n",
    "P_ = P / 4\n",
    "\n",
    "# Calculations\n",
    "T = P_ * e\n",
    "\n",
    "#Known data points\n",
    "W_values = np.array([1.0, 1.5, 2.0, 2.5, 3.0, 4.0, 5.0, 6.0, 10.0])\n",
    "beta_values = np.array([0.141, 0.196, 0.229, 0.249, 0.263, 0.281, 0.291, 0.299, 0.312])\n",
    "\n",
    "def get_beta(W):\n",
    "    \"\"\"\n",
    "    Returns the interpolated beta value for a given W.\n",
    "    If W is outside the data range, it will extrapolate.\n",
    "    \"\"\"\n",
    "    return float(np.interp(W, W_values, beta_values))\n",
    "\n",
    "    \n",
    "# Equations for second polar moment of area have an underscore suffix\n",
    "a_ = b\n",
    "b_ = h\n",
    "W = a_/b_\n",
    "\n",
    "# Calculate Torsional Constant\n",
    "beta = float(np.interp(W, W_values, beta_values))\n",
    "\n",
    "# Calculate Second Polar Moment of Area\n",
    "J = beta * a_ * b**3\n",
    "\n",
    "# Torsional Stress is Tr/J\n",
    "tau_max = T * r / J\n",
    "\n",
    "print(e)"
   ]
  },
  {
   "cell_type": "markdown",
   "id": "bb4b3063-1ffe-4058-9b2a-04fde7ba1be7",
   "metadata": {},
   "source": [
    "# Finally, we calculate the combined stress\n",
    "Pulled from the equivalent von mises stress theory, reference here: https://www.continuummechanics.org/vonmisesstress.html\n",
    "$$\\sigma_v = \\sqrt{\\sigma^2 + 3\\tau^2}$$\n"
   ]
  },
  {
   "cell_type": "code",
   "execution_count": 53,
   "id": "cfe29019-0f11-41ef-ad8a-dc1419da54c7",
   "metadata": {},
   "outputs": [
    {
     "name": "stdout",
     "output_type": "stream",
     "text": [
      "399.8128844626018 megapascal\n",
      "57.9879562778453 kip_per_square_inch\n"
     ]
    }
   ],
   "source": [
    "# Equivalent Stress\n",
    "sigma_v = (sigma_bending**2 + 3*tau_max**2)**(1/2)\n",
    "\n",
    "print(sigma_v.to(ureg.MPa))\n",
    "print(sigma_v.to(ureg.ksi))"
   ]
  },
  {
   "cell_type": "markdown",
   "id": "51088f03-eb8d-4382-8fb1-2e01928d59d4",
   "metadata": {},
   "source": [
    "# Weld Calculations\n",
    "\n",
    "The shear stress in a weld is: $$\\tau \\approx \\frac{F}{A} = \\frac{F}{0.707 \\cdot h \\cdot L_{weld}}$$\n",
    "\n",
    "The welds will counter-act the moment generated by loading the frame at the center of the member. These resultant forces are derived by drawing a free body diagram about the center of the weld pattern and derived from the equation below:\n",
    "$$M = \\frac{PL}{4} = \\left( \\frac{w}{2} \\cdot R \\right) \\cdot 2 \\quad \\Rightarrow \\quad \\frac{PL}{4} = R \\cdot \\omega$$\n",
    "\n",
    "Solving for P and denominating the reaction load as being the value for both welds but acting in opposing directions:\n",
    "$$ R_{1,2} = \\frac{PL}{4w}$$\n",
    "\n",
    "To find the maximum load the system is capable of, we substitute R into F for the fillet weld equations, and solve for P, simplifying to:\n",
    "$$P = \\frac{2 \\cdot \\left( \\tau_{yield} \\cdot 0.707 \\cdot h \\cdot L_{weld} \\right) \\cdot N \\cdot w}{L}$$\n",
    "\n",
    "Where:  \n",
    "N is the number of welds  \n",
    "h is the size of the welds  \n",
    "L is the length of the weld  \n",
    "w is the width of the tube  \n",
    "\n",
    "\n"
   ]
  },
  {
   "cell_type": "code",
   "execution_count": 54,
   "id": "76152a34-75e6-4825-bee9-7e2961ffc1d9",
   "metadata": {},
   "outputs": [
    {
     "name": "stdout",
     "output_type": "stream",
     "text": [
      "The maximum load the frame can withstand with welds is: 647.72 force_pound\n"
     ]
    }
   ],
   "source": [
    "# The width of the fillet weld is in this case is roughly 3/16\"\n",
    "L_beam = 898.4 * ureg.mm\n",
    "h_weld = 3/16 * ureg.inch\n",
    "L_weld = tWidth * ureg.mm # The length of the fillet weld is the length of the tube width \n",
    "w = tWidth * ureg.mm # Re-declaring the variable tWidth (width of the tube) as w for legibility with the equations\n",
    "nWelds = 2\n",
    "\n",
    "# Solve the equation:\n",
    "# Note: We use tau_yield_welded because of the HAZ knockdown effect. Source:\n",
    "# https://esab.com/us/nam_en/esab-university/articles/the-haz-in-aluminum-welds/\n",
    "P_max = (4 * tau_yield_welded * 0.707 * h * L_weld * nWelds * w) / L_beam\n",
    "\n",
    "print(f\"The maximum load the frame can withstand with welds is: {P_max.to(ureg.lbf):.2f}\")"
   ]
  },
  {
   "cell_type": "code",
   "execution_count": 60,
   "id": "fbf737a8-112b-4c1c-a759-984c52490c19",
   "metadata": {},
   "outputs": [
    {
     "data": {
      "text/plain": [
       "'\\n# Quick sanity check on stress within tube due to bending\\nsigma_b_test = (P_max * L_beam ) * tWidth *ureg.mm / (8 * I)\\n\\nprint(f\"Under maximum load allowed by welds, max. bending stress\")\\nprint(f\"in tube is: {sigma_b_test.to(ureg.ksi):.2f}\")\\n\\n# And then see how much the beam will deflect under maximum load\\n'"
      ]
     },
     "execution_count": 60,
     "metadata": {},
     "output_type": "execute_result"
    }
   ],
   "source": [
    "'''\n",
    "# Quick sanity check on stress within tube due to bending\n",
    "sigma_b_test = (P_max * L_beam ) * tWidth *ureg.mm / (8 * I)\n",
    "\n",
    "print(f\"Under maximum load allowed by welds, max. bending stress\")\n",
    "print(f\"in tube is: {sigma_b_test.to(ureg.ksi):.2f}\")\n",
    "\n",
    "# And then see how much the beam will deflect under maximum load\n",
    "'''"
   ]
  },
  {
   "cell_type": "code",
   "execution_count": 64,
   "id": "2cbc821a-692c-46ac-8c36-13f9bb1a51cd",
   "metadata": {},
   "outputs": [
    {
     "name": "stdout",
     "output_type": "stream",
     "text": [
      "821.0728346456696 force_pound\n"
     ]
    }
   ],
   "source": [
    "# Strength of a singular tab (not yet system normalized)\n",
    "R_t = sigma_yield * h * 7.13 * ureg.mm\n",
    "\n",
    "print(R_t.to(ureg.lbf))"
   ]
  },
  {
   "cell_type": "code",
   "execution_count": 71,
   "id": "a465b54c-19e9-407c-a2c4-f0d6638c98ce",
   "metadata": {},
   "outputs": [
    {
     "name": "stdout",
     "output_type": "stream",
     "text": [
      "The maximum load the frame can withstand with tabs is: 81.01 force_pound\n"
     ]
    }
   ],
   "source": [
    "# Find the maximum load capable of the tab details\n",
    "W_t = 22.16 * ureg.mm # From CAD\n",
    "P_max_tab = (4 * R_t * W_t) / (L_beam)\n",
    "\n",
    "print(f\"The maximum load the frame can withstand with tabs is: {P_max_tab.to(ureg.lbf):.2f}\")\n"
   ]
  },
  {
   "cell_type": "code",
   "execution_count": 70,
   "id": "177f5fcc-f6d0-435b-90eb-9519864cc7f9",
   "metadata": {},
   "outputs": [
    {
     "name": "stdout",
     "output_type": "stream",
     "text": [
      "7.995481295993437 dimensionless\n"
     ]
    }
   ],
   "source": [
    "# What's the difference in loading capactiy (factor X) of the tab version versus the welded version?\n",
    "ratio_wt = P_max / P_max_tab\n",
    "print(ratio_wt)"
   ]
  },
  {
   "cell_type": "code",
   "execution_count": null,
   "id": "b4a344e1-9625-4f41-bc19-280bad351613",
   "metadata": {},
   "outputs": [],
   "source": []
  }
 ],
 "metadata": {
  "kernelspec": {
   "display_name": "Python 3 (ipykernel)",
   "language": "python",
   "name": "python3"
  },
  "language_info": {
   "codemirror_mode": {
    "name": "ipython",
    "version": 3
   },
   "file_extension": ".py",
   "mimetype": "text/x-python",
   "name": "python",
   "nbconvert_exporter": "python",
   "pygments_lexer": "ipython3",
   "version": "3.13.5"
  }
 },
 "nbformat": 4,
 "nbformat_minor": 5
}
