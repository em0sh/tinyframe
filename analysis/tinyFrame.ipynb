{
 "cells": [
  {
   "cell_type": "markdown",
   "id": "7491e1c4",
   "metadata": {},
   "source": [
    "## tinyFrame Analysis - General Calculations\n",
    "\n",
    "## Purpose\n",
    "This document serve as the repository for all analysis for the tinyFrame project.\n",
    "\n",
    "## TODO:\n",
    "- ~~Calculate required deflection~~\n",
    "- ~~Build calculations around known press-force (7 lbf)~~\n",
    "- Stress checks for given thickness and the declarations above"
   ]
  },
  {
   "cell_type": "code",
   "execution_count": 1,
   "id": "4beb8d1e",
   "metadata": {},
   "outputs": [],
   "source": [
    "import numpy, yaml, pint\n",
    "import numpy as np\n",
    "import matplotlib.pyplot as plt\n",
    "\n",
    "# Boilerplate\n",
    "## Initialize Pint Registry for Unit Manipulation\n",
    "## See documentation on Registries and Units in Pint here:\n",
    "## https://pint.readthedocs.io/en/stable/getting/tutorial.html\n",
    "from pint import UnitRegistry\n",
    "ureg = UnitRegistry(auto_reduce_dimensions=True)"
   ]
  },
  {
   "cell_type": "code",
   "execution_count": 2,
   "id": "562a9d0c-98ea-4b5c-9315-c290d3bfc36a",
   "metadata": {},
   "outputs": [],
   "source": [
    "preferred_units = [\n",
    "   ureg.m,  # distance      L\n",
    "   ureg.kilogram,  # mass          M\n",
    "   ureg.s,  # duration      T\n",
    "   ureg.c,  # temperature   Θ\n",
    "   ureg.newton,  # force         L M T^-2\n",
    "   ureg.W,  # power         L^2 M T^-3\n",
    "]"
   ]
  },
  {
   "cell_type": "markdown",
   "id": "98159745-7007-4742-8e81-85202102fe43",
   "metadata": {},
   "source": [
    "Equation that describes deflection as a function of loading for wrap:\n",
    "$$\\delta = \\frac{Pl^3}{3EI}$$\n",
    "\n",
    "Equation for Second Moment of Area of a Rectangular beam:\n",
    "$$I = \\frac{bh^3}{12}$$\n",
    "\n",
    "Before solving for the required locking tab length, we first need to find the prototyped deflection to determine the required length in thicker gauge configurations of the tubing system.\n",
    "\n",
    "Solving the equation above and replacing the second moment of area, I with the locking tab dimensions, we get:\n",
    "\n",
    "$$\\delta = \\frac{4 P L^3}{E b h^3}$$\n",
    "\n",
    "We normalize to the number of tabs in the system (four) and end up with:\n",
    "\n",
    "\n",
    "$$\\delta = \\frac{P L_{protoyped}^3}{E b h^3}$$\n",
    "\n",
    "\n"
   ]
  },
  {
   "cell_type": "code",
   "execution_count": 49,
   "id": "aebb7ca9-ddcb-452a-9bfd-b5606d5dec0d",
   "metadata": {},
   "outputs": [],
   "source": [
    "# Values determined from Prototyping (Thanks Jonathan & Bryce!)\n",
    "E = 69e9 * ureg.newton / (ureg.meter * ureg.meter) # Pa - young's modulus\n",
    "P = 31 * ureg.newton # From Prototyping\n",
    "L_prototyped = 75 * ureg.mm # From CAD\n",
    "\n",
    "# Second moment of Area for Beam\n",
    "b = 6.4177 * ureg.mm\n",
    "h = 1.651 * ureg.mm"
   ]
  },
  {
   "cell_type": "code",
   "execution_count": 50,
   "id": "bf5746d2-751d-4db6-9639-7a446530feb6",
   "metadata": {},
   "outputs": [
    {
     "name": "stdout",
     "output_type": "stream",
     "text": [
      "Distance for Locking Flexure to deflect for installation: \n",
      "6.562597392958355 millimeter\n"
     ]
    }
   ],
   "source": [
    "del_ = (P * L_prototyped**3) / (E * b * h**3)\n",
    "\n",
    "print(\"Distance for Locking Flexure to deflect for installation: \")\n",
    "print(del_.to(ureg.mm))"
   ]
  },
  {
   "cell_type": "markdown",
   "id": "e38570cf-2d91-4068-9cf6-700c3e497e70",
   "metadata": {},
   "source": [
    "Given the analysis matches CAD, we can utilize the required deflection as a function of the tab depth as opposed to what was regressed from the calculations above. That will be declared as del_tab.\n",
    "\n",
    "We need to calculate the length of the flexure (locking tabs) required - solve the above equations for I:\n",
    "\n",
    "$$L = \\sqrt[3]{\\frac{3 \\delta \\, E \\, b \\, h^3}{12P}}$$\n",
    "\n",
    "P represents the global press force, but we assume there are always four tabs, so we divide P by 4 and are left with:\n",
    "\n",
    "$$L = \\sqrt[3]{\\frac{\\delta \\, E \\, b \\, h^3}{P}}$$"
   ]
  },
  {
   "cell_type": "code",
   "execution_count": 73,
   "id": "979d931b-7857-4293-a5ce-5988fdc0d660",
   "metadata": {},
   "outputs": [
    {
     "name": "stdout",
     "output_type": "stream",
     "text": [
      "80.11847456328006 millimeter\n"
     ]
    }
   ],
   "source": [
    "# Declare variables required:\n",
    "del_tab = 8 * ureg.mm # From CAD\n",
    "\n",
    "\n",
    "# Determine the length of the locking tabs\n",
    "L = ((del_tab * E * b * h**3) / (P)) ** (1/3)\n",
    "\n",
    "#print(L_temp.to(ureg.mm))\n",
    "print(L)"
   ]
  },
  {
   "cell_type": "markdown",
   "id": "3c7ae92b-e7db-44ca-8b47-ca51f6a88fe7",
   "metadata": {},
   "source": [
    "Now, we check for bending stress:\n",
    "\n",
    "$$\\sigma_b = \\frac{M \\cdot c}{I}$$"
   ]
  },
  {
   "cell_type": "code",
   "execution_count": 74,
   "id": "2ae9a528-73dd-41c3-9a23-9551cc02a54c",
   "metadata": {},
   "outputs": [
    {
     "name": "stdout",
     "output_type": "stream",
     "text": [
      "Bending stress seen by the locking tab: \n",
      "30.888234338738997 kip_per_square_inch\n",
      "Factor of safety against yield: \n",
      "2.3633594332210133 dimensionless\n"
     ]
    }
   ],
   "source": [
    "# Declare variables\n",
    "sigma_yield = 73 * ureg.ksi\n",
    "c = h/2\n",
    "I = b*h**3 / 12\n",
    "\n",
    "# Calculate requisite components\n",
    "M = P/4 * L\n",
    "\n",
    "sigma_bending =  M * c / I\n",
    "\n",
    "# What's the factor of safety against the material yield stress?\n",
    "FOS_install = sigma_yield / sigma_bending\n",
    "\n",
    "print(\"Bending stress seen by the locking tab: \")\n",
    "print(sigma_bending.to(ureg.ksi))\n",
    "\n",
    "print(\"Factor of safety against yield: \")\n",
    "print(FOS_install)"
   ]
  },
  {
   "cell_type": "code",
   "execution_count": null,
   "id": "9dd530f4-30bf-4ca7-8df9-116c10bb10cf",
   "metadata": {},
   "outputs": [],
   "source": []
  }
 ],
 "metadata": {
  "kernelspec": {
   "display_name": "Python 3 (ipykernel)",
   "language": "python",
   "name": "python3"
  },
  "language_info": {
   "codemirror_mode": {
    "name": "ipython",
    "version": 3
   },
   "file_extension": ".py",
   "mimetype": "text/x-python",
   "name": "python",
   "nbconvert_exporter": "python",
   "pygments_lexer": "ipython3",
   "version": "3.13.5"
  }
 },
 "nbformat": 4,
 "nbformat_minor": 5
}
