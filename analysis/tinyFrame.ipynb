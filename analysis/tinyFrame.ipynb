{
 "cells": [
  {
   "cell_type": "markdown",
   "id": "7491e1c4",
   "metadata": {},
   "source": [
    "## tinyFrame Analysis - General Calculations\n",
    "\n",
    "## Purpose\n",
    "This document serve as the repository for all analysis for the tinyFrame project.\n",
    "\n",
    "## NOTE:\n",
    "This analysis is for Ductile materials only - it does not calculate principal stresses and is unsuitable for brittle materials.\n",
    "\n",
    "## TODO:\n",
    "- ~~Calculate required deflection~~\n",
    "- ~~Build calculations around known press-force (7 lbf)~~\n",
    "- ~~stress checks for given thickness and the declarations above~~\n",
    "- ~~Calculate combined stress case due to additional torsion created by double-back feature (snake)~~\n",
    "- ~~Strength Checks~~\n",
    "  - ~~Calculate Strength of Joint when Welded~~\n",
    "  - ~~Calculate Strength of Joint as Snap Fit~~\n",
    "- Create a plot that shows:\n",
    "  - Load\n",
    "  - Length\n",
    "  - Gauge"
   ]
  },
  {
   "cell_type": "code",
   "execution_count": 1,
   "id": "4beb8d1e",
   "metadata": {},
   "outputs": [],
   "source": [
    "import numpy, yaml, pint\n",
    "import numpy as np\n",
    "import matplotlib.pyplot as plt\n",
    "\n",
    "# Boilerplate\n",
    "## Initialize Pint Registry for Unit Manipulation\n",
    "## See documentation on Registries and Units in Pint here:\n",
    "## https://pint.readthedocs.io/en/stable/getting/tutorial.html\n",
    "from pint import UnitRegistry\n",
    "ureg = UnitRegistry(auto_reduce_dimensions=True)"
   ]
  },
  {
   "cell_type": "code",
   "execution_count": 2,
   "id": "562a9d0c-98ea-4b5c-9315-c290d3bfc36a",
   "metadata": {},
   "outputs": [],
   "source": [
    "preferred_units = [\n",
    "   ureg.m,  # distance      L\n",
    "   ureg.kilogram,  # mass          M\n",
    "   ureg.s,  # duration      T\n",
    "   ureg.c,  # temperature   Θ\n",
    "   ureg.newton,  # force         L M T^-2\n",
    "   ureg.W,  # power         L^2 M T^-3\n",
    "]"
   ]
  },
  {
   "cell_type": "markdown",
   "id": "98159745-7007-4742-8e81-85202102fe43",
   "metadata": {},
   "source": [
    "The equation that describes insert force for the locking tab is from the cantilever beam for a fixed support equation:\n",
    "\n",
    "$$\\delta = \\frac{Pl^3}{3EI}$$\n",
    "\n",
    "Equation for Second Moment of Area of a Rectangular beam:\n",
    "$$I = \\frac{bh^3}{12}$$\n",
    "\n",
    "Solving the equation above and replacing the second moment of area, I with the locking tab dimensions, we get:\n",
    "\n",
    "$$\\delta = \\frac{4 P L^3}{E b h^3}$$\n",
    "\n",
    "We normalize to the number of tabs in the system (four) and end up with:\n",
    "\n",
    "\n",
    "$$\\delta = \\frac{P L_{protoyped}^3}{E b h^3}$$\n",
    "\n",
    "## First, we declare inputs from the user - tubing size, material, ecetera:\n"
   ]
  },
  {
   "cell_type": "code",
   "execution_count": 3,
   "id": "b5b60ea7-965c-4176-a1eb-de43eef4af08",
   "metadata": {},
   "outputs": [],
   "source": [
    "# First, declare inputs\n",
    "# Tube Width, width\n",
    "tWidth = 50.8 * ureg.mm\n",
    "# Thickness (gauge) of tube\n",
    "h = 1.651 * ureg.mm\n",
    "\n",
    "# Material Properties\n",
    "# Yield Stress of the Material\n",
    "# Currently: Aluminum 6061-T6\n",
    "sigma_yield_aluminum = 28 * ureg.ksi\n",
    "sigma_yield_steel = 41 * ureg.ksi\n",
    "\n",
    "# E in Pa - young's modulus\n",
    "E_aluminum = 69e9 * ureg.newton / (ureg.meter * ureg.meter)\n",
    "E_steel = 3*69e9 * ureg.newton / (ureg.meter * ureg.meter)\n"
   ]
  },
  {
   "cell_type": "markdown",
   "id": "aa6cd1c3-ce42-4713-b3df-d244055abba5",
   "metadata": {},
   "source": [
    "## The following declarations are from prototyping"
   ]
  },
  {
   "cell_type": "code",
   "execution_count": 4,
   "id": "aebb7ca9-ddcb-452a-9bfd-b5606d5dec0d",
   "metadata": {},
   "outputs": [],
   "source": [
    "# Values determined from Prototyping (Thanks Jonathan & Bryce!)\n",
    "P = 10 * ureg.lbf # From Prototyping\n",
    "\n",
    "# From testing done at FabWorks, the ratio of the tab is:\n",
    "# NOTE: If the geometry of the design changes, this needs to as well\n",
    "bRatio = 3.19/50.8\n",
    "\n",
    "# This is the distance required to travel to account for the depth\n",
    "  # the depth of the tab\n",
    "del_tab = 6.35 * ureg.mm # From CAD\n",
    "\n",
    "# Calculate b (locking tab width required)\n",
    "b = bRatio * tWidth \n"
   ]
  },
  {
   "cell_type": "markdown",
   "id": "e38570cf-2d91-4068-9cf6-700c3e497e70",
   "metadata": {},
   "source": [
    "We need to calculate the length of the flexure (locking tabs) required - solve the above equation for L:\n",
    "\n",
    "$$L = \\sqrt[3]{\\frac{3 \\delta \\, E \\, b \\, h^3}{12P}}$$\n",
    "\n",
    "P represents the global press force, but we assume there are always four tabs, so we divide P by 4 and are left with:\n",
    "\n",
    "$$L = \\sqrt[3]{\\frac{\\delta \\, E \\, b \\, h^3}{P}}$$"
   ]
  },
  {
   "cell_type": "code",
   "execution_count": 5,
   "id": "2ae9a528-73dd-41c3-9a23-9551cc02a54c",
   "metadata": {},
   "outputs": [],
   "source": [
    "def calcBending(h, L):\n",
    "    # Calculations for geometry of Bending Region\n",
    "    h = h * ureg.mm\n",
    "    L = L * ureg.mm\n",
    "    c = h/2 \n",
    "    I = b*h**3 / 12\n",
    "    \n",
    "    # Calculate requisite components\n",
    "    # Moment for a cantilever - normalized by N (number of tabs, 4) is:\n",
    "    # Applying a 25% overhead (1.25 FOS) by manipulating the load here\n",
    "    M = 1.25*P/4 * L\n",
    "    \n",
    "    # Calculate the bending stress\n",
    "    sigma_bending =  M * c / I\n",
    "\n",
    "    return sigma_bending\n"
   ]
  },
  {
   "cell_type": "markdown",
   "id": "c8cfceee-60e3-48a3-be0b-fcae04642542",
   "metadata": {},
   "source": [
    "# Checking for Combined Loading of Torsional and Bending Stresses\n",
    "## We first calculate the torsional stress in the beam caused by off axis loading\n",
    "Torsional stress in a beam is:\n",
    "$$ \\tau = \\frac{TR}{J}$$\n",
    "\n",
    "For a non-uniform (circular) about the Z axis shape, beams have a constant applied. We calculate the constant below.\n",
    "\n",
    "The second polar moment of area for a rectangular beam is:\n",
    "$$J \\approx \\beta a b^3$$\n",
    "\n",
    "Where:\n",
    "\n",
    "a is the length of the long side\n",
    "\n",
    "b is the length of the short side\n",
    "\n",
    "β is the torsional constant\n",
    "\n",
    "\n",
    "First, calculate ratio a/b and declare it as W to pass to a function to return torsional constant $\\beta$."
   ]
  },
  {
   "cell_type": "code",
   "execution_count": 6,
   "id": "2774071f-6b82-4986-ac02-eece24d3ea91",
   "metadata": {},
   "outputs": [],
   "source": [
    "def calcTorsion(h):\n",
    "        # Variables for Torsional Stress Calculations\n",
    "        # Note: Normalizing P (load) to P_ to delinate load distributed over four locking tabs\n",
    "    # e is the hypotenuse of the b/h triangle: \n",
    "    h = h * ureg.mm\n",
    "    e = 3.7 *(tWidth / 50.8) \n",
    "    r = (b**2 / 4 + h**2 / 4)**(1/2)\n",
    "    P_ = P / 4\n",
    "    \n",
    "    # Calculations\n",
    "    T = P_ * e\n",
    "    \n",
    "    #Known data points\n",
    "    W_values = np.array([1.0, 1.5, 2.0, 2.5, 3.0, 4.0, 5.0, 6.0, 10.0])\n",
    "    beta_values = np.array([0.141, 0.196, 0.229, 0.249, 0.263, 0.281, 0.291, 0.299, 0.312])\n",
    "    \n",
    "    # Equations for second polar moment of area have an underscore suffix\n",
    "    a_ = b\n",
    "    b_ = h\n",
    "    W = a_/b_\n",
    "    \n",
    "    # Calculate Torsional Constant\n",
    "    beta = float(np.interp(W, W_values, beta_values))\n",
    "    \n",
    "    # Calculate Second Polar Moment of Area\n",
    "    J = beta * a_ * b**3\n",
    "    \n",
    "    # Torsional Stress is Tr/J\n",
    "    tau_max = T * r / J\n",
    "\n",
    "    return(tau_max)"
   ]
  },
  {
   "cell_type": "markdown",
   "id": "bb4b3063-1ffe-4058-9b2a-04fde7ba1be7",
   "metadata": {},
   "source": [
    "# Finally, we calculate the combined stress\n",
    "Pulled from the equivalent von mises stress theory, reference here: https://www.continuummechanics.org/vonmisesstress.html\n",
    "$$\\sigma_v = \\sqrt{\\sigma_{b}^2 + 3\\tau^2}$$\n",
    "\n"
   ]
  },
  {
   "cell_type": "code",
   "execution_count": 7,
   "id": "cfe29019-0f11-41ef-ad8a-dc1419da54c7",
   "metadata": {},
   "outputs": [],
   "source": [
    "def calcVM(sigma, tau):\n",
    "    # Equivalent Stress\n",
    "    sigma_v = (sigma**2 + 3*tau**2)**(1/2)\n",
    "    \n",
    "    return sigma_v"
   ]
  },
  {
   "cell_type": "markdown",
   "id": "6cd9e460-00d0-49b9-a31c-cad308d83238",
   "metadata": {},
   "source": [
    "# Sizing Chart Calculations\n",
    "\n",
    "1. Find L\n",
    "2. Find the bending stress\n",
    "3. Combine with Torsional stress\n",
    "4. Apply factor of safety\n",
    "5. If\n",
    "    sigma > sigma_yield -> reduce the length of the flexure\n",
    "       else: return length\n",
    "\n",
    "## First, we calculate the requisite b and L values for the tab locking flexure"
   ]
  },
  {
   "cell_type": "markdown",
   "id": "ac8e7ea9-4eac-41dd-85a9-76ec4bdf4ec0",
   "metadata": {},
   "source": [
    "## We calculate the required length and plot"
   ]
  },
  {
   "cell_type": "code",
   "execution_count": 8,
   "id": "d1716490-460c-4954-babf-da9775b6ccaf",
   "metadata": {},
   "outputs": [
    {
     "data": {
      "image/png": "[encoded data removed]",
      "text/plain": [
       "<Figure size 640x480 with 1 Axes>"
      ]
     },
     "metadata": {},
     "output_type": "display_data"
    }
   ],
   "source": [
    "# Arguments: y -> yield stress\n",
    "\n",
    "def findLength(y, E, b, h, P, del_tab):\n",
    "    # Determine the length of the locking tabs\n",
    "    L = ((del_tab * E * b * h**3) / (P)) ** (1/3)\n",
    "    \n",
    "    # Check against Yield Stress with appropriate safety factor\n",
    "    stress_current = calcVM(calcBending(h, L),\n",
    "                            calcTorsion(h))\n",
    "    # Ensure current stress is less than the yield stress. If it is, reduce the stress by\n",
    "        # reducing the length of the flexure until it no longer is yielding, then continue\n",
    "\n",
    "    while stress_current.to('ksi').magnitude >= y.to('ksi').magnitude:\n",
    "        L -= .025\n",
    "        stress_current = calcVM(calcBending(h, L), calcTorsion(h))\n",
    "        \n",
    "    return L\n",
    "    \n",
    "# Calculate thickness values and store them in an array\n",
    "# These minimum and maximum values are from the material selection page\n",
    "tValues = np.linspace(0.762, 12.7, 10)\n",
    "\n",
    "def makeData(tValues, E, y):\n",
    "    L_values = [findLength(y, E, b, T, P,  \n",
    "                           del_tab) for T in tValues]\n",
    "    return {'T': tValues, 'L': L_values}\n",
    "\n",
    "def plot(X1, X2):\n",
    "    L1 = X1['L']\n",
    "    T1 = X1['T']\n",
    "    L2 = X2['L']\n",
    "    T2 = X2['T']\n",
    "    \n",
    "    plt.plot(T1, L1, label='Aluminum, Stress Limited')\n",
    "    plt.plot(T2, L2, color='green', label='Steel, Stress Limited')\n",
    "    \n",
    "    plt.xlabel('Thickness (mm)')\n",
    "    plt.ylabel('Flexure Length Required (mm)')\n",
    "    plt.title('Flexure Length as a Function of Material and Thickness')\n",
    "    plt.grid(True)\n",
    "    plt.legend()\n",
    "    plt.show()\n",
    "\n",
    "\n",
    "# Use tValues is the range of thicknesses, E_x)\n",
    "data1 = makeData(tValues, E_aluminum, sigma_yield_aluminum)\n",
    "data2 = makeData(tValues, E_steel, sigma_yield_steel)\n",
    "plot(data1, data2)"
   ]
  }
 ],
 "metadata": {
  "kernelspec": {
   "display_name": "Python 3 (ipykernel)",
   "language": "python",
   "name": "python3"
  },
  "language_info": {
   "codemirror_mode": {
    "name": "ipython",
    "version": 3
   },
   "file_extension": ".py",
   "mimetype": "text/x-python",
   "name": "python",
   "nbconvert_exporter": "python",
   "pygments_lexer": "ipython3",
   "version": "3.13.5"
  }
 },
 "nbformat": 4,
 "nbformat_minor": 5
}
